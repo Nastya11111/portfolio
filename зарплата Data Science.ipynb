{
 "cells": [
  {
   "cell_type": "markdown",
   "id": "6efd1158-a0ce-424a-8644-e506e41ee34b",
   "metadata": {},
   "source": [
    "### Анализ зарплатных показателей в Data Science"
   ]
  },
  {
   "cell_type": "markdown",
   "id": "4d6e6a50-8b91-4b02-9074-340feabb7215",
   "metadata": {},
   "source": [
    "#### Цель\n",
    "Исследование факторов, влияющих на зарплату специалистов в Data Science, с целью выявления закономерностей и ключевых драйверов доходов в зависимости от уровня опыта, типа занятости, размера компании и других параметров.\n"
   ]
  },
  {
   "cell_type": "markdown",
   "id": "7a190020-af54-49d8-8aac-78d8715443cb",
   "metadata": {},
   "source": [
    "##### Описание данных DataScience_salaries_2024:\n",
    "\n",
    "* work_year - Год, за который были собраны данные о заработной плате.\n",
    "* experience_уровень - уровень опыта сотрудника (EN - Entry-level, MI - Middle, SE - Senior, EX - Expert).\n",
    "* employment_type - Тип занятости (FT - полный рабочий день, PT - неполный рабочий день, CT - контракт).\n",
    "* job_title - Должность сотрудника в области обработки данных.\n",
    "* salary - Заработная плата сотрудника в валюте, указанной в параметре salary_currency.\n",
    "* salary_currency - валюта, в которой указывается заработная плата.\n",
    "* salary_in_usd - Заработная плата сотрудника, пересчитанная в доллары США для стандартизации.\n",
    "* employee_residence - место жительства сотрудника.\n",
    "* remote_ratio - Процент удаленной работы, разрешенный для данной должности (например, 0, 50, 100).\n",
    "* company_location - Местоположение компании, в которой работает сотрудник.\n",
    "* company_size - Размер компании, основанный на количестве сотрудников (например, S - Малый, M - средний, L - крупный)."
   ]
  },
  {
   "cell_type": "markdown",
   "id": "8490eaed-82f4-4776-9379-0ec518ce600c",
   "metadata": {},
   "source": [
    "Ссылка на данные: https://www.kaggle.com/datasets/yusufdelikkaya/datascience-salaries-2024"
   ]
  },
  {
   "cell_type": "markdown",
   "id": "802cfbfc-445f-467c-a1ee-cbcf19bd625b",
   "metadata": {},
   "source": [
    "Для начала посмотрим на сами данные."
   ]
  },
  {
   "cell_type": "code",
   "execution_count": 122,
   "id": "155108a1-4b83-4c5e-ad22-d94e2de7a9b6",
   "metadata": {
    "scrolled": true
   },
   "outputs": [
    {
     "data": {
      "text/html": [
       "<div>\n",
       "<style scoped>\n",
       "    .dataframe tbody tr th:only-of-type {\n",
       "        vertical-align: middle;\n",
       "    }\n",
       "\n",
       "    .dataframe tbody tr th {\n",
       "        vertical-align: top;\n",
       "    }\n",
       "\n",
       "    .dataframe thead th {\n",
       "        text-align: right;\n",
       "    }\n",
       "</style>\n",
       "<table border=\"1\" class=\"dataframe\">\n",
       "  <thead>\n",
       "    <tr style=\"text-align: right;\">\n",
       "      <th></th>\n",
       "      <th>work_year</th>\n",
       "      <th>experience_level</th>\n",
       "      <th>employment_type</th>\n",
       "      <th>job_title</th>\n",
       "      <th>salary</th>\n",
       "      <th>salary_currency</th>\n",
       "      <th>salary_in_usd</th>\n",
       "      <th>employee_residence</th>\n",
       "      <th>remote_ratio</th>\n",
       "      <th>company_location</th>\n",
       "      <th>company_size</th>\n",
       "    </tr>\n",
       "  </thead>\n",
       "  <tbody>\n",
       "    <tr>\n",
       "      <th>0</th>\n",
       "      <td>2021</td>\n",
       "      <td>MI</td>\n",
       "      <td>FT</td>\n",
       "      <td>Data Scientist</td>\n",
       "      <td>30400000</td>\n",
       "      <td>CLP</td>\n",
       "      <td>40038</td>\n",
       "      <td>CL</td>\n",
       "      <td>100</td>\n",
       "      <td>CL</td>\n",
       "      <td>L</td>\n",
       "    </tr>\n",
       "    <tr>\n",
       "      <th>1</th>\n",
       "      <td>2021</td>\n",
       "      <td>MI</td>\n",
       "      <td>FT</td>\n",
       "      <td>BI Data Analyst</td>\n",
       "      <td>11000000</td>\n",
       "      <td>HUF</td>\n",
       "      <td>36259</td>\n",
       "      <td>HU</td>\n",
       "      <td>50</td>\n",
       "      <td>US</td>\n",
       "      <td>L</td>\n",
       "    </tr>\n",
       "    <tr>\n",
       "      <th>2</th>\n",
       "      <td>2020</td>\n",
       "      <td>MI</td>\n",
       "      <td>FT</td>\n",
       "      <td>Data Scientist</td>\n",
       "      <td>11000000</td>\n",
       "      <td>HUF</td>\n",
       "      <td>35735</td>\n",
       "      <td>HU</td>\n",
       "      <td>50</td>\n",
       "      <td>HU</td>\n",
       "      <td>L</td>\n",
       "    </tr>\n",
       "    <tr>\n",
       "      <th>3</th>\n",
       "      <td>2021</td>\n",
       "      <td>MI</td>\n",
       "      <td>FT</td>\n",
       "      <td>ML Engineer</td>\n",
       "      <td>8500000</td>\n",
       "      <td>JPY</td>\n",
       "      <td>77364</td>\n",
       "      <td>JP</td>\n",
       "      <td>50</td>\n",
       "      <td>JP</td>\n",
       "      <td>S</td>\n",
       "    </tr>\n",
       "    <tr>\n",
       "      <th>4</th>\n",
       "      <td>2022</td>\n",
       "      <td>SE</td>\n",
       "      <td>FT</td>\n",
       "      <td>Lead Machine Learning Engineer</td>\n",
       "      <td>7500000</td>\n",
       "      <td>INR</td>\n",
       "      <td>95386</td>\n",
       "      <td>IN</td>\n",
       "      <td>50</td>\n",
       "      <td>IN</td>\n",
       "      <td>L</td>\n",
       "    </tr>\n",
       "    <tr>\n",
       "      <th>5</th>\n",
       "      <td>2021</td>\n",
       "      <td>MI</td>\n",
       "      <td>FT</td>\n",
       "      <td>ML Engineer</td>\n",
       "      <td>7000000</td>\n",
       "      <td>JPY</td>\n",
       "      <td>63711</td>\n",
       "      <td>JP</td>\n",
       "      <td>50</td>\n",
       "      <td>JP</td>\n",
       "      <td>S</td>\n",
       "    </tr>\n",
       "    <tr>\n",
       "      <th>6</th>\n",
       "      <td>2021</td>\n",
       "      <td>SE</td>\n",
       "      <td>FT</td>\n",
       "      <td>Data Science Manager</td>\n",
       "      <td>7000000</td>\n",
       "      <td>INR</td>\n",
       "      <td>94665</td>\n",
       "      <td>IN</td>\n",
       "      <td>50</td>\n",
       "      <td>IN</td>\n",
       "      <td>L</td>\n",
       "    </tr>\n",
       "    <tr>\n",
       "      <th>7</th>\n",
       "      <td>2022</td>\n",
       "      <td>EN</td>\n",
       "      <td>FT</td>\n",
       "      <td>Data Scientist</td>\n",
       "      <td>6600000</td>\n",
       "      <td>HUF</td>\n",
       "      <td>17684</td>\n",
       "      <td>HU</td>\n",
       "      <td>100</td>\n",
       "      <td>HU</td>\n",
       "      <td>M</td>\n",
       "    </tr>\n",
       "    <tr>\n",
       "      <th>8</th>\n",
       "      <td>2022</td>\n",
       "      <td>EX</td>\n",
       "      <td>FT</td>\n",
       "      <td>Head of Machine Learning</td>\n",
       "      <td>6000000</td>\n",
       "      <td>INR</td>\n",
       "      <td>76309</td>\n",
       "      <td>IN</td>\n",
       "      <td>50</td>\n",
       "      <td>IN</td>\n",
       "      <td>L</td>\n",
       "    </tr>\n",
       "    <tr>\n",
       "      <th>9</th>\n",
       "      <td>2022</td>\n",
       "      <td>EN</td>\n",
       "      <td>FT</td>\n",
       "      <td>Research Engineer</td>\n",
       "      <td>5500000</td>\n",
       "      <td>JPY</td>\n",
       "      <td>41809</td>\n",
       "      <td>JP</td>\n",
       "      <td>50</td>\n",
       "      <td>JP</td>\n",
       "      <td>L</td>\n",
       "    </tr>\n",
       "  </tbody>\n",
       "</table>\n",
       "</div>"
      ],
      "text/plain": [
       "   work_year experience_level employment_type                       job_title  \\\n",
       "0       2021               MI              FT                  Data Scientist   \n",
       "1       2021               MI              FT                 BI Data Analyst   \n",
       "2       2020               MI              FT                  Data Scientist   \n",
       "3       2021               MI              FT                     ML Engineer   \n",
       "4       2022               SE              FT  Lead Machine Learning Engineer   \n",
       "5       2021               MI              FT                     ML Engineer   \n",
       "6       2021               SE              FT            Data Science Manager   \n",
       "7       2022               EN              FT                  Data Scientist   \n",
       "8       2022               EX              FT        Head of Machine Learning   \n",
       "9       2022               EN              FT               Research Engineer   \n",
       "\n",
       "     salary salary_currency  salary_in_usd employee_residence  remote_ratio  \\\n",
       "0  30400000             CLP          40038                 CL           100   \n",
       "1  11000000             HUF          36259                 HU            50   \n",
       "2  11000000             HUF          35735                 HU            50   \n",
       "3   8500000             JPY          77364                 JP            50   \n",
       "4   7500000             INR          95386                 IN            50   \n",
       "5   7000000             JPY          63711                 JP            50   \n",
       "6   7000000             INR          94665                 IN            50   \n",
       "7   6600000             HUF          17684                 HU           100   \n",
       "8   6000000             INR          76309                 IN            50   \n",
       "9   5500000             JPY          41809                 JP            50   \n",
       "\n",
       "  company_location company_size  \n",
       "0               CL            L  \n",
       "1               US            L  \n",
       "2               HU            L  \n",
       "3               JP            S  \n",
       "4               IN            L  \n",
       "5               JP            S  \n",
       "6               IN            L  \n",
       "7               HU            M  \n",
       "8               IN            L  \n",
       "9               JP            L  "
      ]
     },
     "execution_count": 122,
     "metadata": {},
     "output_type": "execute_result"
    }
   ],
   "source": [
    "import pandas as pd\n",
    "import numpy as np\n",
    "from scipy import stats as st\n",
    "import seaborn as sns\n",
    "import matplotlib.pyplot as plt\n",
    "%matplotlib inline\n",
    "salaries = pd.read_csv('C:/Users/User/DataScience_salaries_2024.csv', sep=',')\n",
    "salaries.head(10)"
   ]
  },
  {
   "cell_type": "code",
   "execution_count": 123,
   "id": "2d829de8-c130-45ee-b90c-abd043710641",
   "metadata": {},
   "outputs": [
    {
     "name": "stdout",
     "output_type": "stream",
     "text": [
      "<class 'pandas.core.frame.DataFrame'>\n",
      "RangeIndex: 14838 entries, 0 to 14837\n",
      "Data columns (total 11 columns):\n",
      " #   Column              Non-Null Count  Dtype \n",
      "---  ------              --------------  ----- \n",
      " 0   work_year           14838 non-null  int64 \n",
      " 1   experience_level    14838 non-null  object\n",
      " 2   employment_type     14838 non-null  object\n",
      " 3   job_title           14838 non-null  object\n",
      " 4   salary              14838 non-null  int64 \n",
      " 5   salary_currency     14838 non-null  object\n",
      " 6   salary_in_usd       14838 non-null  int64 \n",
      " 7   employee_residence  14838 non-null  object\n",
      " 8   remote_ratio        14838 non-null  int64 \n",
      " 9   company_location    14838 non-null  object\n",
      " 10  company_size        14838 non-null  object\n",
      "dtypes: int64(4), object(7)\n",
      "memory usage: 1.2+ MB\n"
     ]
    }
   ],
   "source": [
    "salaries.info()"
   ]
  },
  {
   "cell_type": "code",
   "execution_count": 124,
   "id": "e9470bec-67fd-4247-93b8-630b6fe763f9",
   "metadata": {},
   "outputs": [
    {
     "data": {
      "text/plain": [
       "5711"
      ]
     },
     "execution_count": 124,
     "metadata": {},
     "output_type": "execute_result"
    }
   ],
   "source": [
    "salaries.duplicated().sum()"
   ]
  },
  {
   "cell_type": "markdown",
   "id": "905ef64d-b381-45fb-ac42-064101dbc503",
   "metadata": {},
   "source": [
    "Видим, что в наших данных нет пропусков в значениях, однако было обноружено 5 711 дубликатов, от которых нам необходимо избавиться."
   ]
  },
  {
   "cell_type": "code",
   "execution_count": 125,
   "id": "2b447e49-ec37-464b-9e5a-5ea3c77dfab7",
   "metadata": {},
   "outputs": [
    {
     "name": "stdout",
     "output_type": "stream",
     "text": [
      "<class 'pandas.core.frame.DataFrame'>\n",
      "Index: 9127 entries, 0 to 14837\n",
      "Data columns (total 11 columns):\n",
      " #   Column              Non-Null Count  Dtype \n",
      "---  ------              --------------  ----- \n",
      " 0   work_year           9127 non-null   int64 \n",
      " 1   experience_level    9127 non-null   object\n",
      " 2   employment_type     9127 non-null   object\n",
      " 3   job_title           9127 non-null   object\n",
      " 4   salary              9127 non-null   int64 \n",
      " 5   salary_currency     9127 non-null   object\n",
      " 6   salary_in_usd       9127 non-null   int64 \n",
      " 7   employee_residence  9127 non-null   object\n",
      " 8   remote_ratio        9127 non-null   int64 \n",
      " 9   company_location    9127 non-null   object\n",
      " 10  company_size        9127 non-null   object\n",
      "dtypes: int64(4), object(7)\n",
      "memory usage: 855.7+ KB\n"
     ]
    }
   ],
   "source": [
    "salaries= salaries.drop_duplicates()\n",
    "salaries.info()"
   ]
  },
  {
   "cell_type": "code",
   "execution_count": 127,
   "id": "31a8a6b3-cd09-4ed2-b418-7203a5160314",
   "metadata": {},
   "outputs": [
    {
     "data": {
      "text/plain": [
       "employment_type\n",
       "FT    9061\n",
       "PT      27\n",
       "CT      26\n",
       "FL      13\n",
       "Name: count, dtype: int64"
      ]
     },
     "execution_count": 127,
     "metadata": {},
     "output_type": "execute_result"
    }
   ],
   "source": [
    "salaries['employment_type'].value_counts()"
   ]
  },
  {
   "cell_type": "markdown",
   "id": "ecb4240f-01f1-41d5-94ce-c18ca7262737",
   "metadata": {},
   "source": [
    "Изучив структуру данных, была замечена описка, которая была устранена заменой FL на FT/"
   ]
  },
  {
   "cell_type": "code",
   "execution_count": 128,
   "id": "df08ebe6-6aba-4f92-a233-28559a46dd2e",
   "metadata": {},
   "outputs": [
    {
     "data": {
      "text/plain": [
       "employment_type\n",
       "FT    9074\n",
       "PT      27\n",
       "CT      26\n",
       "Name: count, dtype: int64"
      ]
     },
     "execution_count": 128,
     "metadata": {},
     "output_type": "execute_result"
    }
   ],
   "source": [
    "salaries['employment_type'] = salaries['employment_type'].replace('FL', 'FT')\n",
    "salaries['employment_type'].value_counts()"
   ]
  },
  {
   "cell_type": "markdown",
   "id": "43782bef-9f27-447f-8695-de1f35c9ee48",
   "metadata": {},
   "source": [
    "Далее посмотрим на визуальное представление наших данных."
   ]
  },
  {
   "cell_type": "code",
   "execution_count": 129,
   "id": "96893aec-9bb1-45b7-b7ea-71d95a77298f",
   "metadata": {},
   "outputs": [
    {
     "data": {
      "text/plain": [
       "<Axes: >"
      ]
     },
     "execution_count": 129,
     "metadata": {},
     "output_type": "execute_result"
    },
    {
     "data": {
      "image/png": "[encoded data removed]",
      "text/plain": [
       "<Figure size 640x480 with 1 Axes>"
      ]
     },
     "metadata": {},
     "output_type": "display_data"
    }
   ],
   "source": [
    "salaries.boxplot(column = 'salary_in_usd')"
   ]
  },
  {
   "cell_type": "markdown",
   "id": "8e0fbfde-e52e-4660-a93a-00c8ac0dff51",
   "metadata": {},
   "source": [
    "Видно, что в наших данных большое количество выбросов (аномальных значений), посмотрим на них подробнее."
   ]
  },
  {
   "cell_type": "code",
   "execution_count": 130,
   "id": "bd91805d-a546-47fa-b687-5742e5f31bf0",
   "metadata": {
    "scrolled": true
   },
   "outputs": [
    {
     "data": {
      "text/html": [
       "<div>\n",
       "<style scoped>\n",
       "    .dataframe tbody tr th:only-of-type {\n",
       "        vertical-align: middle;\n",
       "    }\n",
       "\n",
       "    .dataframe tbody tr th {\n",
       "        vertical-align: top;\n",
       "    }\n",
       "\n",
       "    .dataframe thead th {\n",
       "        text-align: right;\n",
       "    }\n",
       "</style>\n",
       "<table border=\"1\" class=\"dataframe\">\n",
       "  <thead>\n",
       "    <tr style=\"text-align: right;\">\n",
       "      <th></th>\n",
       "      <th>salary_in_usd</th>\n",
       "      <th>job_title</th>\n",
       "    </tr>\n",
       "    <tr>\n",
       "      <th>job_title</th>\n",
       "      <th></th>\n",
       "      <th></th>\n",
       "    </tr>\n",
       "  </thead>\n",
       "  <tbody>\n",
       "    <tr>\n",
       "      <th>Machine Learning Scientist</th>\n",
       "      <td>636250.000000</td>\n",
       "      <td>4</td>\n",
       "    </tr>\n",
       "    <tr>\n",
       "      <th>Prompt Engineer</th>\n",
       "      <td>600000.000000</td>\n",
       "      <td>1</td>\n",
       "    </tr>\n",
       "    <tr>\n",
       "      <th>Analytics Engineer</th>\n",
       "      <td>562706.666667</td>\n",
       "      <td>9</td>\n",
       "    </tr>\n",
       "    <tr>\n",
       "      <th>Data Analyst</th>\n",
       "      <td>505681.166667</td>\n",
       "      <td>6</td>\n",
       "    </tr>\n",
       "    <tr>\n",
       "      <th>AI Architect</th>\n",
       "      <td>440220.000000</td>\n",
       "      <td>5</td>\n",
       "    </tr>\n",
       "    <tr>\n",
       "      <th>Applied Machine Learning Scientist</th>\n",
       "      <td>423000.000000</td>\n",
       "      <td>1</td>\n",
       "    </tr>\n",
       "    <tr>\n",
       "      <th>AI Scientist</th>\n",
       "      <td>417937.000000</td>\n",
       "      <td>1</td>\n",
       "    </tr>\n",
       "    <tr>\n",
       "      <th>Principal Data Scientist</th>\n",
       "      <td>416000.000000</td>\n",
       "      <td>1</td>\n",
       "    </tr>\n",
       "    <tr>\n",
       "      <th>Research Engineer</th>\n",
       "      <td>401450.000000</td>\n",
       "      <td>15</td>\n",
       "    </tr>\n",
       "    <tr>\n",
       "      <th>Analytics Engineering Manager</th>\n",
       "      <td>399880.000000</td>\n",
       "      <td>1</td>\n",
       "    </tr>\n",
       "    <tr>\n",
       "      <th>Head of Machine Learning</th>\n",
       "      <td>397250.000000</td>\n",
       "      <td>4</td>\n",
       "    </tr>\n",
       "    <tr>\n",
       "      <th>Research Scientist</th>\n",
       "      <td>389348.461538</td>\n",
       "      <td>26</td>\n",
       "    </tr>\n",
       "    <tr>\n",
       "      <th>Data Analytics Lead</th>\n",
       "      <td>382100.000000</td>\n",
       "      <td>3</td>\n",
       "    </tr>\n",
       "    <tr>\n",
       "      <th>Applied Data Scientist</th>\n",
       "      <td>380000.000000</td>\n",
       "      <td>1</td>\n",
       "    </tr>\n",
       "    <tr>\n",
       "      <th>Data Scientist</th>\n",
       "      <td>376164.807692</td>\n",
       "      <td>26</td>\n",
       "    </tr>\n",
       "    <tr>\n",
       "      <th>Data Science Tech Lead</th>\n",
       "      <td>375000.000000</td>\n",
       "      <td>1</td>\n",
       "    </tr>\n",
       "    <tr>\n",
       "      <th>ML Engineer</th>\n",
       "      <td>366602.500000</td>\n",
       "      <td>12</td>\n",
       "    </tr>\n",
       "    <tr>\n",
       "      <th>AI Engineer</th>\n",
       "      <td>363731.428571</td>\n",
       "      <td>7</td>\n",
       "    </tr>\n",
       "    <tr>\n",
       "      <th>Applied Scientist</th>\n",
       "      <td>357800.000000</td>\n",
       "      <td>3</td>\n",
       "    </tr>\n",
       "    <tr>\n",
       "      <th>Data Infrastructure Engineer</th>\n",
       "      <td>356701.666667</td>\n",
       "      <td>3</td>\n",
       "    </tr>\n",
       "    <tr>\n",
       "      <th>Data Architect</th>\n",
       "      <td>354547.500000</td>\n",
       "      <td>8</td>\n",
       "    </tr>\n",
       "    <tr>\n",
       "      <th>Data Engineer</th>\n",
       "      <td>350240.076923</td>\n",
       "      <td>26</td>\n",
       "    </tr>\n",
       "    <tr>\n",
       "      <th>Data Lead</th>\n",
       "      <td>350000.000000</td>\n",
       "      <td>1</td>\n",
       "    </tr>\n",
       "    <tr>\n",
       "      <th>Director of Data Science</th>\n",
       "      <td>347525.000000</td>\n",
       "      <td>4</td>\n",
       "    </tr>\n",
       "    <tr>\n",
       "      <th>Machine Learning Engineer</th>\n",
       "      <td>347493.790698</td>\n",
       "      <td>43</td>\n",
       "    </tr>\n",
       "    <tr>\n",
       "      <th>Computer Vision Engineer</th>\n",
       "      <td>346905.000000</td>\n",
       "      <td>2</td>\n",
       "    </tr>\n",
       "    <tr>\n",
       "      <th>Machine Learning Software Engineer</th>\n",
       "      <td>338500.000000</td>\n",
       "      <td>2</td>\n",
       "    </tr>\n",
       "    <tr>\n",
       "      <th>Data Science</th>\n",
       "      <td>335098.666667</td>\n",
       "      <td>6</td>\n",
       "    </tr>\n",
       "    <tr>\n",
       "      <th>Head of Data</th>\n",
       "      <td>329500.000000</td>\n",
       "      <td>2</td>\n",
       "    </tr>\n",
       "    <tr>\n",
       "      <th>Data Science Manager</th>\n",
       "      <td>328000.000000</td>\n",
       "      <td>2</td>\n",
       "    </tr>\n",
       "    <tr>\n",
       "      <th>Finance Data Analyst</th>\n",
       "      <td>323905.000000</td>\n",
       "      <td>1</td>\n",
       "    </tr>\n",
       "    <tr>\n",
       "      <th>Head of Data Science</th>\n",
       "      <td>322050.000000</td>\n",
       "      <td>2</td>\n",
       "    </tr>\n",
       "    <tr>\n",
       "      <th>Data Product Owner</th>\n",
       "      <td>321830.000000</td>\n",
       "      <td>1</td>\n",
       "    </tr>\n",
       "    <tr>\n",
       "      <th>Business Intelligence</th>\n",
       "      <td>320000.000000</td>\n",
       "      <td>1</td>\n",
       "    </tr>\n",
       "    <tr>\n",
       "      <th>Deep Learning Engineer</th>\n",
       "      <td>317513.500000</td>\n",
       "      <td>2</td>\n",
       "    </tr>\n",
       "  </tbody>\n",
       "</table>\n",
       "</div>"
      ],
      "text/plain": [
       "                                    salary_in_usd  job_title\n",
       "job_title                                                   \n",
       "Machine Learning Scientist          636250.000000          4\n",
       "Prompt Engineer                     600000.000000          1\n",
       "Analytics Engineer                  562706.666667          9\n",
       "Data Analyst                        505681.166667          6\n",
       "AI Architect                        440220.000000          5\n",
       "Applied Machine Learning Scientist  423000.000000          1\n",
       "AI Scientist                        417937.000000          1\n",
       "Principal Data Scientist            416000.000000          1\n",
       "Research Engineer                   401450.000000         15\n",
       "Analytics Engineering Manager       399880.000000          1\n",
       "Head of Machine Learning            397250.000000          4\n",
       "Research Scientist                  389348.461538         26\n",
       "Data Analytics Lead                 382100.000000          3\n",
       "Applied Data Scientist              380000.000000          1\n",
       "Data Scientist                      376164.807692         26\n",
       "Data Science Tech Lead              375000.000000          1\n",
       "ML Engineer                         366602.500000         12\n",
       "AI Engineer                         363731.428571          7\n",
       "Applied Scientist                   357800.000000          3\n",
       "Data Infrastructure Engineer        356701.666667          3\n",
       "Data Architect                      354547.500000          8\n",
       "Data Engineer                       350240.076923         26\n",
       "Data Lead                           350000.000000          1\n",
       "Director of Data Science            347525.000000          4\n",
       "Machine Learning Engineer           347493.790698         43\n",
       "Computer Vision Engineer            346905.000000          2\n",
       "Machine Learning Software Engineer  338500.000000          2\n",
       "Data Science                        335098.666667          6\n",
       "Head of Data                        329500.000000          2\n",
       "Data Science Manager                328000.000000          2\n",
       "Finance Data Analyst                323905.000000          1\n",
       "Head of Data Science                322050.000000          2\n",
       "Data Product Owner                  321830.000000          1\n",
       "Business Intelligence               320000.000000          1\n",
       "Deep Learning Engineer              317513.500000          2"
      ]
     },
     "execution_count": 130,
     "metadata": {},
     "output_type": "execute_result"
    }
   ],
   "source": [
    "salaries.query('salary_in_usd>300000').groupby('job_title').agg({'salary_in_usd': 'mean', 'job_title':'count'}).sort_values(by = 'salary_in_usd', ascending = False)"
   ]
  },
  {
   "cell_type": "markdown",
   "id": "6e245612-3a31-48a0-8119-a237819e8b1e",
   "metadata": {},
   "source": [
    "Самой частой должностью, зарплата которой превышает верхнюю границу графика, является Machine Learning Engineer (эта позиция повторялась 43 раза), однако самой большой средней зарплатой среди аномальных значений является 636 250 (должность Machine Learning Scientist).\n",
    "\n",
    "Также отдельно посмотрим на самую большую зарплату."
   ]
  },
  {
   "cell_type": "code",
   "execution_count": 131,
   "id": "a0124528-661d-4795-a5f0-e44443d5b2bc",
   "metadata": {},
   "outputs": [
    {
     "data": {
      "text/html": [
       "<div>\n",
       "<style scoped>\n",
       "    .dataframe tbody tr th:only-of-type {\n",
       "        vertical-align: middle;\n",
       "    }\n",
       "\n",
       "    .dataframe tbody tr th {\n",
       "        vertical-align: top;\n",
       "    }\n",
       "\n",
       "    .dataframe thead th {\n",
       "        text-align: right;\n",
       "    }\n",
       "</style>\n",
       "<table border=\"1\" class=\"dataframe\">\n",
       "  <thead>\n",
       "    <tr style=\"text-align: right;\">\n",
       "      <th></th>\n",
       "      <th>work_year</th>\n",
       "      <th>experience_level</th>\n",
       "      <th>employment_type</th>\n",
       "      <th>job_title</th>\n",
       "      <th>salary</th>\n",
       "      <th>salary_currency</th>\n",
       "      <th>salary_in_usd</th>\n",
       "      <th>employee_residence</th>\n",
       "      <th>remote_ratio</th>\n",
       "      <th>company_location</th>\n",
       "      <th>company_size</th>\n",
       "    </tr>\n",
       "  </thead>\n",
       "  <tbody>\n",
       "    <tr>\n",
       "      <th>66</th>\n",
       "      <td>2024</td>\n",
       "      <td>MI</td>\n",
       "      <td>FT</td>\n",
       "      <td>AI Architect</td>\n",
       "      <td>800000</td>\n",
       "      <td>USD</td>\n",
       "      <td>800000</td>\n",
       "      <td>CA</td>\n",
       "      <td>100</td>\n",
       "      <td>CA</td>\n",
       "      <td>M</td>\n",
       "    </tr>\n",
       "  </tbody>\n",
       "</table>\n",
       "</div>"
      ],
      "text/plain": [
       "    work_year experience_level employment_type     job_title  salary  \\\n",
       "66       2024               MI              FT  AI Architect  800000   \n",
       "\n",
       "   salary_currency  salary_in_usd employee_residence  remote_ratio  \\\n",
       "66             USD         800000                 CA           100   \n",
       "\n",
       "   company_location company_size  \n",
       "66               CA            M  "
      ]
     },
     "execution_count": 131,
     "metadata": {},
     "output_type": "execute_result"
    }
   ],
   "source": [
    "salaries.query('salary_in_usd==800000')"
   ]
  },
  {
   "cell_type": "markdown",
   "id": "39ce2af7-0ad9-4e8a-a82b-9d3b6a2a2c93",
   "metadata": {},
   "source": [
    "Ее получает AI Architect, стоит отметить, что его уровень опыта всего лишь средний, он полностью работает удалено в средней по размеру компании.\n",
    "\n",
    "Теперь посмотрим внимательнее на должности."
   ]
  },
  {
   "cell_type": "code",
   "execution_count": 149,
   "id": "3c0e0647-2878-432b-8adf-c99533997034",
   "metadata": {
    "scrolled": true
   },
   "outputs": [
    {
     "data": {
      "text/plain": [
       "array(['Data Scientist', 'BI Data Analyst', 'ML Engineer',\n",
       "       'Lead Machine Learning Engineer', 'Data Science Manager',\n",
       "       'Head of Machine Learning', 'Research Engineer',\n",
       "       'Head of Data Science', 'AI Programmer',\n",
       "       'Machine Learning Engineer', 'Lead Data Scientist',\n",
       "       'Data Engineer', 'Applied Machine Learning Scientist',\n",
       "       'Lead Data Analyst', 'Data Analytics Manager',\n",
       "       'Data Integration Specialist', 'Principal Data Architect',\n",
       "       'NLP Engineer', 'Big Data Engineer', 'AI Research Engineer',\n",
       "       'Machine Learning Software Engineer', 'Data Analyst',\n",
       "       'Applied Data Scientist', 'AI Scientist', 'Data Analytics Lead',\n",
       "       'Business Data Analyst', 'Product Data Analyst',\n",
       "       'Computer Vision Engineer', 'Data Science Consultant',\n",
       "       'AI Architect', 'Analytics Engineer', 'Machine Learning Scientist',\n",
       "       'Research Scientist', 'Prompt Engineer',\n",
       "       'Principal Data Scientist', 'Applied Scientist',\n",
       "       'Deep Learning Engineer', 'Data Architect', 'AI Engineer',\n",
       "       'Data Infrastructure Engineer', 'Data Science',\n",
       "       'Director of Data Science', 'Data Science Tech Lead', 'BI Analyst',\n",
       "       'Data Lead', 'Head of Data', 'Analytics Engineering Manager',\n",
       "       'Data Product Owner', 'Business Intelligence',\n",
       "       'Machine Learning Infrastructure Engineer', 'Research Analyst',\n",
       "       'Managing Director Data Science', 'Finance Data Analyst',\n",
       "       'Data Operations Engineer', 'Robotics Software Engineer',\n",
       "       'MLOps Engineer', 'Lead Data Engineer', 'AI Developer',\n",
       "       'Data Science Lead', 'Data Science Engineer',\n",
       "       'Business Intelligence Manager',\n",
       "       'Business Intelligence Specialist',\n",
       "       'Business Intelligence Engineer', 'Data Modeler',\n",
       "       'AWS Data Architect', 'Machine Learning Researcher',\n",
       "       'Data Product Manager', 'Data Strategy Manager', 'ETL Developer',\n",
       "       'Cloud Data Architect', 'Computational Biologist',\n",
       "       'AI Software Engineer', 'Data Strategist', 'Data Manager',\n",
       "       'Business Intelligence Analyst',\n",
       "       'Applied Machine Learning Engineer', 'Data Specialist',\n",
       "       'AI Product Manager', 'Data Science Director',\n",
       "       'Software Data Engineer', 'Data Operations Specialist',\n",
       "       'BI Developer', 'Machine Learning Modeler', 'Decision Scientist',\n",
       "       'Data Management Specialist', 'Data Analyst Lead',\n",
       "       'Marketing Data Analyst', 'Machine Learning Manager',\n",
       "       'Principal Data Engineer', 'Data Science Practitioner',\n",
       "       'ML Ops Engineer', 'Principal Machine Learning Engineer',\n",
       "       'Data Quality Engineer', 'Cloud Database Engineer',\n",
       "       'Staff Machine Learning Engineer', 'Data Visualization Specialist',\n",
       "       'Data Scientist Lead', 'Robotics Engineer',\n",
       "       'Data Integration Developer', 'Data Developer',\n",
       "       'Machine Learning Developer', 'Staff Data Analyst',\n",
       "       'Business Intelligence Developer', 'Business Intelligence Lead',\n",
       "       'Data Pipeline Engineer', 'Data Quality Analyst',\n",
       "       'Data Visualization Engineer', 'Principal Data Analyst',\n",
       "       'Staff Data Scientist', 'Data Integration Engineer',\n",
       "       'Machine Learning Operations Engineer', 'Consultant Data Engineer',\n",
       "       'Cloud Data Engineer', 'Data Analytics Specialist',\n",
       "       'Data Operations Analyst', 'Data Science Analyst',\n",
       "       'AI Research Scientist', 'ETL Engineer',\n",
       "       'Computer Vision Software Engineer', 'Data Management Analyst',\n",
       "       'Data Operations Manager', 'Data Analytics Engineer',\n",
       "       'Data Visualization Analyst', 'Financial Data Analyst',\n",
       "       'Manager Data Management', 'Big Data Architect',\n",
       "       'Data Analytics Consultant', 'Autonomous Vehicle Technician',\n",
       "       'Big Data Developer', 'Deep Learning Researcher',\n",
       "       'Machine Learning Research Engineer', 'Data Management Consultant',\n",
       "       'Azure Data Engineer', 'Business Intelligence Data Analyst',\n",
       "       'Data Analytics Associate', 'Data Reporting Analyst',\n",
       "       'Marketing Data Scientist', 'Data Modeller',\n",
       "       'Marketing Data Engineer', 'Data DevOps Engineer',\n",
       "       'Data Operations Associate', 'Machine Learning Specialist',\n",
       "       'Encounter Data Management Professional',\n",
       "       'Applied Research Scientist', 'Admin & Data Analyst',\n",
       "       'Power BI Developer', 'Compliance Data Analyst',\n",
       "       'Sales Data Analyst', 'BI Data Engineer', 'Data Quality Manager',\n",
       "       'Quantitative Research Analyst', 'Insight Analyst',\n",
       "       'CRM Data Analyst'], dtype=object)"
      ]
     },
     "execution_count": 149,
     "metadata": {},
     "output_type": "execute_result"
    }
   ],
   "source": [
    "salaries.job_title.unique()"
   ]
  },
  {
   "cell_type": "markdown",
   "id": "6e091b56-748d-4b13-8d8a-5704e16b2751",
   "metadata": {},
   "source": [
    "Всего представлено 154 варинта, они все различны, но при этом могут быть очень похожи. Для удобства и наглядности возьмем 10 самых популярных и сравним их средние зарплаты. "
   ]
  },
  {
   "cell_type": "code",
   "execution_count": 152,
   "id": "5950a03e-285e-490f-b4fa-55c0b4bf990d",
   "metadata": {},
   "outputs": [
    {
     "data": {
      "text/html": [
       "<div>\n",
       "<style scoped>\n",
       "    .dataframe tbody tr th:only-of-type {\n",
       "        vertical-align: middle;\n",
       "    }\n",
       "\n",
       "    .dataframe tbody tr th {\n",
       "        vertical-align: top;\n",
       "    }\n",
       "\n",
       "    .dataframe thead th {\n",
       "        text-align: right;\n",
       "    }\n",
       "</style>\n",
       "<table border=\"1\" class=\"dataframe\">\n",
       "  <thead>\n",
       "    <tr style=\"text-align: right;\">\n",
       "      <th></th>\n",
       "      <th>count</th>\n",
       "      <th>mean</th>\n",
       "      <th>std</th>\n",
       "      <th>min</th>\n",
       "      <th>25%</th>\n",
       "      <th>50%</th>\n",
       "      <th>75%</th>\n",
       "      <th>max</th>\n",
       "    </tr>\n",
       "    <tr>\n",
       "      <th>job_title</th>\n",
       "      <th></th>\n",
       "      <th></th>\n",
       "      <th></th>\n",
       "      <th></th>\n",
       "      <th></th>\n",
       "      <th></th>\n",
       "      <th></th>\n",
       "      <th></th>\n",
       "    </tr>\n",
       "  </thead>\n",
       "  <tbody>\n",
       "    <tr>\n",
       "      <th>ML Engineer</th>\n",
       "      <td>145.0</td>\n",
       "      <td>198158.717241</td>\n",
       "      <td>83610.233823</td>\n",
       "      <td>15966.0</td>\n",
       "      <td>145000.0</td>\n",
       "      <td>189400.0</td>\n",
       "      <td>247250.00</td>\n",
       "      <td>530000.0</td>\n",
       "    </tr>\n",
       "    <tr>\n",
       "      <th>Research Scientist</th>\n",
       "      <td>288.0</td>\n",
       "      <td>189410.107639</td>\n",
       "      <td>90075.424401</td>\n",
       "      <td>23000.0</td>\n",
       "      <td>132500.0</td>\n",
       "      <td>171000.0</td>\n",
       "      <td>234175.00</td>\n",
       "      <td>720000.0</td>\n",
       "    </tr>\n",
       "    <tr>\n",
       "      <th>Machine Learning Engineer</th>\n",
       "      <td>867.0</td>\n",
       "      <td>180493.054210</td>\n",
       "      <td>72170.170144</td>\n",
       "      <td>20000.0</td>\n",
       "      <td>132600.0</td>\n",
       "      <td>175000.0</td>\n",
       "      <td>223850.00</td>\n",
       "      <td>750000.0</td>\n",
       "    </tr>\n",
       "    <tr>\n",
       "      <th>Research Engineer</th>\n",
       "      <td>194.0</td>\n",
       "      <td>180347.886598</td>\n",
       "      <td>96378.729760</td>\n",
       "      <td>16455.0</td>\n",
       "      <td>120000.0</td>\n",
       "      <td>158625.0</td>\n",
       "      <td>237487.50</td>\n",
       "      <td>720000.0</td>\n",
       "    </tr>\n",
       "    <tr>\n",
       "      <th>Data Architect</th>\n",
       "      <td>243.0</td>\n",
       "      <td>165275.251029</td>\n",
       "      <td>62674.451110</td>\n",
       "      <td>39245.0</td>\n",
       "      <td>120000.0</td>\n",
       "      <td>155615.0</td>\n",
       "      <td>198800.00</td>\n",
       "      <td>400000.0</td>\n",
       "    </tr>\n",
       "    <tr>\n",
       "      <th>Data Science</th>\n",
       "      <td>162.0</td>\n",
       "      <td>161996.981481</td>\n",
       "      <td>72982.360130</td>\n",
       "      <td>16666.0</td>\n",
       "      <td>110000.0</td>\n",
       "      <td>150000.0</td>\n",
       "      <td>209925.00</td>\n",
       "      <td>381500.0</td>\n",
       "    </tr>\n",
       "    <tr>\n",
       "      <th>Analytics Engineer</th>\n",
       "      <td>333.0</td>\n",
       "      <td>160617.789790</td>\n",
       "      <td>87737.137654</td>\n",
       "      <td>37573.0</td>\n",
       "      <td>115000.0</td>\n",
       "      <td>146100.0</td>\n",
       "      <td>185700.00</td>\n",
       "      <td>750000.0</td>\n",
       "    </tr>\n",
       "    <tr>\n",
       "      <th>Data Scientist</th>\n",
       "      <td>1684.0</td>\n",
       "      <td>149432.482779</td>\n",
       "      <td>66909.595900</td>\n",
       "      <td>16000.0</td>\n",
       "      <td>104650.0</td>\n",
       "      <td>144000.0</td>\n",
       "      <td>187214.75</td>\n",
       "      <td>750000.0</td>\n",
       "    </tr>\n",
       "    <tr>\n",
       "      <th>Data Engineer</th>\n",
       "      <td>1709.0</td>\n",
       "      <td>144969.702165</td>\n",
       "      <td>64004.721912</td>\n",
       "      <td>17025.0</td>\n",
       "      <td>98700.0</td>\n",
       "      <td>137200.0</td>\n",
       "      <td>184800.00</td>\n",
       "      <td>750000.0</td>\n",
       "    </tr>\n",
       "    <tr>\n",
       "      <th>Data Analyst</th>\n",
       "      <td>1245.0</td>\n",
       "      <td>107945.069880</td>\n",
       "      <td>53450.281566</td>\n",
       "      <td>15000.0</td>\n",
       "      <td>73824.0</td>\n",
       "      <td>101000.0</td>\n",
       "      <td>134200.00</td>\n",
       "      <td>774000.0</td>\n",
       "    </tr>\n",
       "  </tbody>\n",
       "</table>\n",
       "</div>"
      ],
      "text/plain": [
       "                            count           mean           std      min  \\\n",
       "job_title                                                                 \n",
       "ML Engineer                 145.0  198158.717241  83610.233823  15966.0   \n",
       "Research Scientist          288.0  189410.107639  90075.424401  23000.0   \n",
       "Machine Learning Engineer   867.0  180493.054210  72170.170144  20000.0   \n",
       "Research Engineer           194.0  180347.886598  96378.729760  16455.0   \n",
       "Data Architect              243.0  165275.251029  62674.451110  39245.0   \n",
       "Data Science                162.0  161996.981481  72982.360130  16666.0   \n",
       "Analytics Engineer          333.0  160617.789790  87737.137654  37573.0   \n",
       "Data Scientist             1684.0  149432.482779  66909.595900  16000.0   \n",
       "Data Engineer              1709.0  144969.702165  64004.721912  17025.0   \n",
       "Data Analyst               1245.0  107945.069880  53450.281566  15000.0   \n",
       "\n",
       "                                25%       50%        75%       max  \n",
       "job_title                                                           \n",
       "ML Engineer                145000.0  189400.0  247250.00  530000.0  \n",
       "Research Scientist         132500.0  171000.0  234175.00  720000.0  \n",
       "Machine Learning Engineer  132600.0  175000.0  223850.00  750000.0  \n",
       "Research Engineer          120000.0  158625.0  237487.50  720000.0  \n",
       "Data Architect             120000.0  155615.0  198800.00  400000.0  \n",
       "Data Science               110000.0  150000.0  209925.00  381500.0  \n",
       "Analytics Engineer         115000.0  146100.0  185700.00  750000.0  \n",
       "Data Scientist             104650.0  144000.0  187214.75  750000.0  \n",
       "Data Engineer               98700.0  137200.0  184800.00  750000.0  \n",
       "Data Analyst                73824.0  101000.0  134200.00  774000.0  "
      ]
     },
     "execution_count": 152,
     "metadata": {},
     "output_type": "execute_result"
    }
   ],
   "source": [
    "list_with_top_titles = list(top_job_title.index)\n",
    "new_frame = salaries[salaries.job_title.isin(list_with_top_titles)]\n",
    "new_frame.groupby('job_title').salary_in_usd.describe().sort_values(by = 'mean', ascending = False)"
   ]
  },
  {
   "cell_type": "code",
   "execution_count": 167,
   "id": "87b45a36-8c24-4655-8bb6-549e6ed88855",
   "metadata": {},
   "outputs": [
    {
     "data": {
      "image/png": "[encoded data removed]",
      "text/plain": [
       "<Figure size 2000x500 with 1 Axes>"
      ]
     },
     "metadata": {},
     "output_type": "display_data"
    }
   ],
   "source": [
    "fig, ax = plt.subplots(figsize=(20, 5))\n",
    "sns.boxplot(x='job_title', y='salary_in_usd', data=new_frame, ax=ax)\n",
    "plt.show()"
   ]
  },
  {
   "cell_type": "markdown",
   "id": "7a243e80-7d76-44c3-9b42-cabba974d68c",
   "metadata": {},
   "source": [
    "Заметим, что минимальное значение, характерное для различных должностей, примерно 16 000, однако самое большое значение у Data Architect. Кроме того, отметим, что наибольшая разница между минимальным и максимальным значением у Research Scientist.\n",
    "\n",
    "Теперь исследуем вопрос наличия закономерностей между зарплатой и различными факторами."
   ]
  },
  {
   "cell_type": "code",
   "execution_count": 151,
   "id": "43cb8cfd-6c63-4911-8f4e-d464dab0a57c",
   "metadata": {},
   "outputs": [
    {
     "data": {
      "text/plain": [
       "<matplotlib.collections.PathCollection at 0x26672f43e10>"
      ]
     },
     "execution_count": 151,
     "metadata": {},
     "output_type": "execute_result"
    },
    {
     "data": {
      "image/png": "[encoded data removed]",
      "text/plain": [
       "<Figure size 640x480 with 1 Axes>"
      ]
     },
     "metadata": {},
     "output_type": "display_data"
    }
   ],
   "source": [
    "plt.scatter(x = new_frame['salary_in_usd'], y = new_frame['job_title'])\n",
    "plt.scatter(x = salaries['salary_in_usd'], y = salaries['experience_level'])\n",
    "plt.scatter(x = salaries['salary_in_usd'], y = salaries['employment_type'])\n",
    "plt.scatter(x = salaries['salary_in_usd'], y = salaries['company_size'])"
   ]
  },
  {
   "cell_type": "markdown",
   "id": "b86e2215-6e9f-43f6-88c5-8556379014ee",
   "metadata": {},
   "source": [
    "На первый взгляд, никакой зависимости не видно. Однако можно отметить несколько интересных моментов. \n",
    "* Во-первых, люди, работающие на контракте или на частичной занятости, не имеют слишком больших заработных плат (это неудивительно, потому что чаще всего по времени они работают меньше).\n",
    "* Во-вторых, интересно отметить, что люди, работающие в большой компании или в маленькой, также не обладают слишком большими зарплатами.\n",
    "* В-третьих, эсперты тоже не получают слишком больших зарплат. Также интересно отметить, что в нашей выборке есть сотрудник начального уровня с очень большой зарплатой относительно других."
   ]
  },
  {
   "cell_type": "markdown",
   "id": "a0ddded0-8816-4087-9b19-fb1a02e83747",
   "metadata": {},
   "source": [
    "Теперь проранжируем такие переменные, как experience_level, company_size, employment_type. Это позволит нам посчитать корреляцию. "
   ]
  },
  {
   "cell_type": "code",
   "execution_count": 135,
   "id": "9143f5fe-3178-4ee2-af4a-9a83169314b1",
   "metadata": {},
   "outputs": [
    {
     "data": {
      "text/plain": [
       "0.3632800348879155"
      ]
     },
     "execution_count": 135,
     "metadata": {},
     "output_type": "execute_result"
    }
   ],
   "source": [
    "salaries['experience_level_new'] = salaries.experience_level.replace({'EN':1, 'MI':2, 'SE': 3, 'EX':4})\n",
    "salaries['company_size_new'] = salaries.company_size.replace({'S':1, 'M':2, 'L': 3})\n",
    "salaries['employment_type_new'] = salaries.employment_type.replace({'PT':1, 'CT':2, 'FT': 3})\n",
    "salaries['experience_level_new'].corr(salaries['salary_in_usd'])"
   ]
  },
  {
   "cell_type": "markdown",
   "id": "c295ce89-d872-49b6-9bec-15d980e192a4",
   "metadata": {},
   "source": [
    "Существует умеренная положительная корреляция между зарплатой и уровнем опыта. Это означает, что с увеличением опыта, как правило, увеличивается и зарплата. Это ожидаемо, так как более опытные специалисты обычно имеют более высокую ценность для работодателей."
   ]
  },
  {
   "cell_type": "code",
   "execution_count": 136,
   "id": "dcf9193c-8d7c-412c-9724-a04fbddda586",
   "metadata": {},
   "outputs": [
    {
     "data": {
      "text/plain": [
       "-0.026364171071343676"
      ]
     },
     "execution_count": 136,
     "metadata": {},
     "output_type": "execute_result"
    }
   ],
   "source": [
    "salaries['company_size_new'].corr(salaries['salary_in_usd'])"
   ]
  },
  {
   "cell_type": "markdown",
   "id": "283ed90c-2a44-438a-ad9e-eec643ea336c",
   "metadata": {},
   "source": [
    "Очень слабая корреляция."
   ]
  },
  {
   "cell_type": "code",
   "execution_count": 142,
   "id": "527a6041-ed25-4e4a-9a0d-9cada308aa79",
   "metadata": {},
   "outputs": [
    {
     "data": {
      "text/plain": [
       "0.06260352087715004"
      ]
     },
     "execution_count": 142,
     "metadata": {},
     "output_type": "execute_result"
    }
   ],
   "source": [
    "salaries['employment_type_new'].corr(salaries['salary_in_usd'])"
   ]
  },
  {
   "cell_type": "markdown",
   "id": "0f9bc69f-ae42-4fa8-9cfa-63797a5d155a",
   "metadata": {},
   "source": [
    "Очень слабая корреляция."
   ]
  },
  {
   "cell_type": "code",
   "execution_count": 143,
   "id": "e5737257-10cb-41d8-8c49-20f093dd8091",
   "metadata": {},
   "outputs": [
    {
     "data": {
      "text/plain": [
       "-0.06555250254928899"
      ]
     },
     "execution_count": 143,
     "metadata": {},
     "output_type": "execute_result"
    }
   ],
   "source": [
    "salaries['remote_ratio'].corr(salaries['salary_in_usd'])"
   ]
  },
  {
   "cell_type": "markdown",
   "id": "7e672392-c5e2-4d76-8ac7-54cd24e62a77",
   "metadata": {},
   "source": [
    "Очень слабая корреляция.\n",
    "\n",
    "Все наши переменные обладают слабой корреляцией, при этом размер компании и процент удаленной работы имеют отрицательное влияние, то есть при увеличении размера компнаии/процента удаленной работы зарплата уменьшается. Впрочем в отрицательной зависимости размера компании и зарплаты мы уже успели убедиться ранее."
   ]
  },
  {
   "cell_type": "code",
   "execution_count": 112,
   "id": "3b3889dd-c26f-4ccc-9079-6ade7ad0e58a",
   "metadata": {},
   "outputs": [
    {
     "data": {
      "text/html": [
       "<div>\n",
       "<style scoped>\n",
       "    .dataframe tbody tr th:only-of-type {\n",
       "        vertical-align: middle;\n",
       "    }\n",
       "\n",
       "    .dataframe tbody tr th {\n",
       "        vertical-align: top;\n",
       "    }\n",
       "\n",
       "    .dataframe thead th {\n",
       "        text-align: right;\n",
       "    }\n",
       "</style>\n",
       "<table border=\"1\" class=\"dataframe\">\n",
       "  <thead>\n",
       "    <tr style=\"text-align: right;\">\n",
       "      <th></th>\n",
       "      <th>count</th>\n",
       "      <th>mean</th>\n",
       "      <th>std</th>\n",
       "      <th>min</th>\n",
       "      <th>25%</th>\n",
       "      <th>50%</th>\n",
       "      <th>75%</th>\n",
       "      <th>max</th>\n",
       "    </tr>\n",
       "    <tr>\n",
       "      <th>experience_level</th>\n",
       "      <th></th>\n",
       "      <th></th>\n",
       "      <th></th>\n",
       "      <th></th>\n",
       "      <th></th>\n",
       "      <th></th>\n",
       "      <th></th>\n",
       "      <th></th>\n",
       "    </tr>\n",
       "  </thead>\n",
       "  <tbody>\n",
       "    <tr>\n",
       "      <th>EX</th>\n",
       "      <td>354.0</td>\n",
       "      <td>194466.076271</td>\n",
       "      <td>73207.432602</td>\n",
       "      <td>15000.0</td>\n",
       "      <td>143522.75</td>\n",
       "      <td>190250.0</td>\n",
       "      <td>235750.0</td>\n",
       "      <td>465000.0</td>\n",
       "    </tr>\n",
       "    <tr>\n",
       "      <th>SE</th>\n",
       "      <td>5414.0</td>\n",
       "      <td>163515.717215</td>\n",
       "      <td>68486.312250</td>\n",
       "      <td>15809.0</td>\n",
       "      <td>116300.00</td>\n",
       "      <td>154000.0</td>\n",
       "      <td>200000.0</td>\n",
       "      <td>750000.0</td>\n",
       "    </tr>\n",
       "    <tr>\n",
       "      <th>MI</th>\n",
       "      <td>2466.0</td>\n",
       "      <td>123633.489051</td>\n",
       "      <td>71958.470007</td>\n",
       "      <td>15000.0</td>\n",
       "      <td>76968.50</td>\n",
       "      <td>110820.0</td>\n",
       "      <td>153000.0</td>\n",
       "      <td>800000.0</td>\n",
       "    </tr>\n",
       "    <tr>\n",
       "      <th>EN</th>\n",
       "      <td>893.0</td>\n",
       "      <td>90049.220605</td>\n",
       "      <td>54254.222907</td>\n",
       "      <td>15000.0</td>\n",
       "      <td>54000.00</td>\n",
       "      <td>80000.0</td>\n",
       "      <td>115000.0</td>\n",
       "      <td>774000.0</td>\n",
       "    </tr>\n",
       "  </tbody>\n",
       "</table>\n",
       "</div>"
      ],
      "text/plain": [
       "                   count           mean           std      min        25%  \\\n",
       "experience_level                                                            \n",
       "EX                 354.0  194466.076271  73207.432602  15000.0  143522.75   \n",
       "SE                5414.0  163515.717215  68486.312250  15809.0  116300.00   \n",
       "MI                2466.0  123633.489051  71958.470007  15000.0   76968.50   \n",
       "EN                 893.0   90049.220605  54254.222907  15000.0   54000.00   \n",
       "\n",
       "                       50%       75%       max  \n",
       "experience_level                                \n",
       "EX                190250.0  235750.0  465000.0  \n",
       "SE                154000.0  200000.0  750000.0  \n",
       "MI                110820.0  153000.0  800000.0  \n",
       "EN                 80000.0  115000.0  774000.0  "
      ]
     },
     "execution_count": 112,
     "metadata": {},
     "output_type": "execute_result"
    }
   ],
   "source": [
    "salaries.groupby('experience_level').salary_in_usd.describe().sort_values(by = 'mean', ascending = False)"
   ]
  },
  {
   "cell_type": "code",
   "execution_count": 110,
   "id": "94286576-82e2-4ca0-97c1-c7e0efcfec1c",
   "metadata": {},
   "outputs": [
    {
     "data": {
      "text/html": [
       "<div>\n",
       "<style scoped>\n",
       "    .dataframe tbody tr th:only-of-type {\n",
       "        vertical-align: middle;\n",
       "    }\n",
       "\n",
       "    .dataframe tbody tr th {\n",
       "        vertical-align: top;\n",
       "    }\n",
       "\n",
       "    .dataframe thead th {\n",
       "        text-align: right;\n",
       "    }\n",
       "</style>\n",
       "<table border=\"1\" class=\"dataframe\">\n",
       "  <thead>\n",
       "    <tr style=\"text-align: right;\">\n",
       "      <th></th>\n",
       "      <th>count</th>\n",
       "      <th>mean</th>\n",
       "      <th>std</th>\n",
       "      <th>min</th>\n",
       "      <th>25%</th>\n",
       "      <th>50%</th>\n",
       "      <th>75%</th>\n",
       "      <th>max</th>\n",
       "    </tr>\n",
       "    <tr>\n",
       "      <th>employment_type</th>\n",
       "      <th></th>\n",
       "      <th></th>\n",
       "      <th></th>\n",
       "      <th></th>\n",
       "      <th></th>\n",
       "      <th></th>\n",
       "      <th></th>\n",
       "      <th></th>\n",
       "    </tr>\n",
       "  </thead>\n",
       "  <tbody>\n",
       "    <tr>\n",
       "      <th>FT</th>\n",
       "      <td>9074.0</td>\n",
       "      <td>147081.508706</td>\n",
       "      <td>73265.576261</td>\n",
       "      <td>15000.0</td>\n",
       "      <td>95325.0</td>\n",
       "      <td>138800.0</td>\n",
       "      <td>185900.0</td>\n",
       "      <td>800000.0</td>\n",
       "    </tr>\n",
       "    <tr>\n",
       "      <th>CT</th>\n",
       "      <td>26.0</td>\n",
       "      <td>112007.500000</td>\n",
       "      <td>95205.536251</td>\n",
       "      <td>25500.0</td>\n",
       "      <td>50000.0</td>\n",
       "      <td>89444.0</td>\n",
       "      <td>120286.5</td>\n",
       "      <td>416000.0</td>\n",
       "    </tr>\n",
       "    <tr>\n",
       "      <th>PT</th>\n",
       "      <td>27.0</td>\n",
       "      <td>69608.037037</td>\n",
       "      <td>49895.031732</td>\n",
       "      <td>15966.0</td>\n",
       "      <td>29304.5</td>\n",
       "      <td>56000.0</td>\n",
       "      <td>96650.0</td>\n",
       "      <td>212000.0</td>\n",
       "    </tr>\n",
       "  </tbody>\n",
       "</table>\n",
       "</div>"
      ],
      "text/plain": [
       "                  count           mean           std      min      25%  \\\n",
       "employment_type                                                          \n",
       "FT               9074.0  147081.508706  73265.576261  15000.0  95325.0   \n",
       "CT                 26.0  112007.500000  95205.536251  25500.0  50000.0   \n",
       "PT                 27.0   69608.037037  49895.031732  15966.0  29304.5   \n",
       "\n",
       "                      50%       75%       max  \n",
       "employment_type                                \n",
       "FT               138800.0  185900.0  800000.0  \n",
       "CT                89444.0  120286.5  416000.0  \n",
       "PT                56000.0   96650.0  212000.0  "
      ]
     },
     "execution_count": 110,
     "metadata": {},
     "output_type": "execute_result"
    }
   ],
   "source": [
    "salaries.groupby('employment_type').salary_in_usd.describe().sort_values(by = 'mean', ascending = False)"
   ]
  },
  {
   "cell_type": "code",
   "execution_count": 111,
   "id": "12a25cf1-181f-4f22-9add-bd95acfee3e8",
   "metadata": {},
   "outputs": [
    {
     "data": {
      "text/html": [
       "<div>\n",
       "<style scoped>\n",
       "    .dataframe tbody tr th:only-of-type {\n",
       "        vertical-align: middle;\n",
       "    }\n",
       "\n",
       "    .dataframe tbody tr th {\n",
       "        vertical-align: top;\n",
       "    }\n",
       "\n",
       "    .dataframe thead th {\n",
       "        text-align: right;\n",
       "    }\n",
       "</style>\n",
       "<table border=\"1\" class=\"dataframe\">\n",
       "  <thead>\n",
       "    <tr style=\"text-align: right;\">\n",
       "      <th></th>\n",
       "      <th>count</th>\n",
       "      <th>mean</th>\n",
       "      <th>std</th>\n",
       "      <th>min</th>\n",
       "      <th>25%</th>\n",
       "      <th>50%</th>\n",
       "      <th>75%</th>\n",
       "      <th>max</th>\n",
       "    </tr>\n",
       "    <tr>\n",
       "      <th>company_size</th>\n",
       "      <th></th>\n",
       "      <th></th>\n",
       "      <th></th>\n",
       "      <th></th>\n",
       "      <th></th>\n",
       "      <th></th>\n",
       "      <th></th>\n",
       "      <th></th>\n",
       "    </tr>\n",
       "  </thead>\n",
       "  <tbody>\n",
       "    <tr>\n",
       "      <th>M</th>\n",
       "      <td>8323.0</td>\n",
       "      <td>149968.114382</td>\n",
       "      <td>72553.319342</td>\n",
       "      <td>15000.0</td>\n",
       "      <td>100000.0</td>\n",
       "      <td>140250.0</td>\n",
       "      <td>187885.00</td>\n",
       "      <td>800000.0</td>\n",
       "    </tr>\n",
       "    <tr>\n",
       "      <th>L</th>\n",
       "      <td>624.0</td>\n",
       "      <td>121162.450321</td>\n",
       "      <td>76253.625659</td>\n",
       "      <td>15000.0</td>\n",
       "      <td>63798.5</td>\n",
       "      <td>107317.0</td>\n",
       "      <td>165000.00</td>\n",
       "      <td>423000.0</td>\n",
       "    </tr>\n",
       "    <tr>\n",
       "      <th>S</th>\n",
       "      <td>180.0</td>\n",
       "      <td>86773.538889</td>\n",
       "      <td>58625.943153</td>\n",
       "      <td>15809.0</td>\n",
       "      <td>49817.0</td>\n",
       "      <td>71089.5</td>\n",
       "      <td>114285.25</td>\n",
       "      <td>416000.0</td>\n",
       "    </tr>\n",
       "  </tbody>\n",
       "</table>\n",
       "</div>"
      ],
      "text/plain": [
       "               count           mean           std      min       25%  \\\n",
       "company_size                                                           \n",
       "M             8323.0  149968.114382  72553.319342  15000.0  100000.0   \n",
       "L              624.0  121162.450321  76253.625659  15000.0   63798.5   \n",
       "S              180.0   86773.538889  58625.943153  15809.0   49817.0   \n",
       "\n",
       "                   50%        75%       max  \n",
       "company_size                                 \n",
       "M             140250.0  187885.00  800000.0  \n",
       "L             107317.0  165000.00  423000.0  \n",
       "S              71089.5  114285.25  416000.0  "
      ]
     },
     "execution_count": 111,
     "metadata": {},
     "output_type": "execute_result"
    }
   ],
   "source": [
    "salaries.groupby('company_size').salary_in_usd.describe().sort_values(by = 'mean', ascending = False)"
   ]
  },
  {
   "cell_type": "code",
   "execution_count": 106,
   "id": "01c8070f-d57b-4911-ac82-6e78863f90c7",
   "metadata": {},
   "outputs": [
    {
     "data": {
      "text/plain": [
       "<Axes: xlabel='experience_level', ylabel='salary_in_usd'>"
      ]
     },
     "execution_count": 106,
     "metadata": {},
     "output_type": "execute_result"
    },
    {
     "data": {
      "image/png": "[encoded data removed]",
      "text/plain": [
       "<Figure size 640x480 with 1 Axes>"
      ]
     },
     "metadata": {},
     "output_type": "display_data"
    }
   ],
   "source": [
    "sns.boxplot(data=salaries, x=\"experience_level\", y=\"salary_in_usd\")"
   ]
  },
  {
   "cell_type": "code",
   "execution_count": 114,
   "id": "d20cc842-c811-4130-8807-8bbbb45a3ff5",
   "metadata": {},
   "outputs": [
    {
     "data": {
      "text/plain": [
       "<Axes: xlabel='employment_type', ylabel='salary_in_usd'>"
      ]
     },
     "execution_count": 114,
     "metadata": {},
     "output_type": "execute_result"
    },
    {
     "data": {
      "image/png": "[encoded data removed]",
      "text/plain": [
       "<Figure size 640x480 with 1 Axes>"
      ]
     },
     "metadata": {},
     "output_type": "display_data"
    }
   ],
   "source": [
    "sns.boxplot(data=salaries, x=\"employment_type\", y=\"salary_in_usd\")"
   ]
  },
  {
   "cell_type": "code",
   "execution_count": 107,
   "id": "6f87b57c-2dc4-42be-ab1c-5fd1cb6f7bfc",
   "metadata": {},
   "outputs": [
    {
     "data": {
      "text/plain": [
       "<Axes: xlabel='company_size', ylabel='salary_in_usd'>"
      ]
     },
     "execution_count": 107,
     "metadata": {},
     "output_type": "execute_result"
    },
    {
     "data": {
      "image/png": "[encoded data removed]",
      "text/plain": [
       "<Figure size 640x480 with 1 Axes>"
      ]
     },
     "metadata": {},
     "output_type": "display_data"
    }
   ],
   "source": [
    "sns.boxplot(data=salaries, x=\"company_size\", y=\"salary_in_usd\")"
   ]
  },
  {
   "cell_type": "markdown",
   "id": "e443766a-d43e-4576-ab74-38a5b06023bd",
   "metadata": {},
   "source": [
    "#### Вывод"
   ]
  },
  {
   "cell_type": "markdown",
   "id": "abb5769b-7bc7-4122-b554-f7861d9f644c",
   "metadata": {},
   "source": [
    "* Основным фактором, влияющим на уровень зарплаты в области Data Science, является уровень опыта.\n",
    "* Размер компании, тип занятости и доля удаленной работы имеют незначительное влияние на зарплату.\r\n"
   ]
  }
 ],
 "metadata": {
  "kernelspec": {
   "display_name": "Python 3 (ipykernel)",
   "language": "python",
   "name": "python3"
  },
  "language_info": {
   "codemirror_mode": {
    "name": "ipython",
    "version": 3
   },
   "file_extension": ".py",
   "mimetype": "text/x-python",
   "name": "python",
   "nbconvert_exporter": "python",
   "pygments_lexer": "ipython3",
   "version": "3.11.7"
  }
 },
 "nbformat": 4,
 "nbformat_minor": 5
}
